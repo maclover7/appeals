{
 "cells": [
  {
   "cell_type": "markdown",
   "id": "12a6bb30-9dbc-438d-b748-cfa8c1d2234a",
   "metadata": {
    "tags": []
   },
   "source": [
    "# Analyze residential property assessment appeals for 2022S and 2023, by census tract"
   ]
  },
  {
   "cell_type": "code",
   "execution_count": 59,
   "id": "c9478d1f-934f-4c17-9af5-3375d98488d9",
   "metadata": {
    "tags": []
   },
   "outputs": [],
   "source": [
    "from sqlalchemy import create_engine\n",
    "import json\n",
    "import pandas as pd\n",
    "import requests"
   ]
  },
  {
   "cell_type": "code",
   "execution_count": 60,
   "id": "94848e9c-e10e-4b3b-b717-08cc6b204be6",
   "metadata": {
    "tags": []
   },
   "outputs": [],
   "source": [
    "db = create_engine('postgresql://jon@localhost:5432/propertydb')"
   ]
  },
  {
   "cell_type": "code",
   "execution_count": 27,
   "id": "b662d0ba-24e4-41b9-a2b2-6676682fe393",
   "metadata": {
    "tags": []
   },
   "outputs": [],
   "source": [
    "appeals = pd.read_sql_query(\"\"\"SELECT DISTINCT(appeals.parcelid), assessments.municode::int\n",
    "FROM appeals\n",
    "JOIN assessments\n",
    "ON appeals.parcelid = assessments.parcelid\n",
    "WHERE filer = 'PROPERTY OWNER'\n",
    "AND appealperiod IN ('2022S', '2023');\"\"\", db)\n",
    "appeals = appeals.municode.value_counts().to_frame().reset_index()\n",
    "\n",
    "### collapse clairton/pgh/mck/duq"
   ]
  },
  {
   "cell_type": "code",
   "execution_count": 4,
   "id": "f330540f-6cb0-463c-a10e-5ddeb9a00888",
   "metadata": {
    "tags": []
   },
   "outputs": [],
   "source": [
    "### Import median income census data\n",
    "# https://api.census.gov/data/2021/acs/acs5/profile?get=NAME,DP03_0063E&for=county%20subdivision:*&in=state:42%20county:003"
   ]
  },
  {
   "cell_type": "code",
   "execution_count": 40,
   "id": "c24cbaf7-37af-4820-b830-21ddc9c9ef94",
   "metadata": {
    "tags": []
   },
   "outputs": [],
   "source": [
    "with open('input/census.json', 'r') as f:\n",
    "    jsondata = json.load(f)\n",
    "census = pd.DataFrame(data=jsondata[1:], columns=jsondata[0])\n",
    "census = census.rename(columns={ 'DP03_0063E': 'medincome', 'county subdivision': 'fips' })\n",
    "census['medincome'] = census.medincome.astype('int64')\n",
    "census['fips'] = census.fips.astype('int64')"
   ]
  },
  {
   "cell_type": "code",
   "execution_count": 32,
   "id": "b41fd207-996a-448b-8c72-b4a5c0af7856",
   "metadata": {
    "tags": []
   },
   "outputs": [],
   "source": [
    "### Import census-appeals matcher\n",
    "# https://data.wprdc.org/datastore/dump/44ef6677-ade7-4fda-a32c-93cf124cf09b?fields=fips,municode&format=csv\n",
    "censusmatcher = pd.read_csv('input/fipsmunicode.csv')"
   ]
  },
  {
   "cell_type": "code",
   "execution_count": 47,
   "id": "f493b831-7e35-48bb-b633-a9a3d51c554b",
   "metadata": {
    "tags": []
   },
   "outputs": [],
   "source": [
    "pd.merge(\n",
    "    pd.merge(appeals, censusmatcher, on='municode')[['count', 'fips']],\n",
    "    census[['fips', 'NAME', 'medincome']],\n",
    "    on='fips'\n",
    ").to_csv('medincome-ownerappeals.csv', index=False)"
   ]
  },
  {
   "cell_type": "code",
   "execution_count": null,
   "id": "4fe46ecc-e379-4654-ad7b-b804f8c459b3",
   "metadata": {},
   "outputs": [],
   "source": []
  },
  {
   "cell_type": "code",
   "execution_count": null,
   "id": "c97dd7f5-ec7c-4443-9731-06b157fe2b89",
   "metadata": {},
   "outputs": [],
   "source": []
  },
  {
   "cell_type": "code",
   "execution_count": null,
   "id": "9005e0c2-b881-4d53-b832-5951b80fc4c3",
   "metadata": {},
   "outputs": [],
   "source": []
  },
  {
   "cell_type": "markdown",
   "id": "5389973b-7823-4b63-8063-c2368280a0d1",
   "metadata": {},
   "source": [
    "### Create method for getting an appealed property's tract"
   ]
  },
  {
   "cell_type": "code",
   "execution_count": 95,
   "id": "56902bc1-5938-4b36-96c0-60f6ec988ed7",
   "metadata": {
    "tags": []
   },
   "outputs": [],
   "source": [
    "def get_appeal_tract(appealedproperty):\n",
    "    r = requests.get(\n",
    "        'https://geocoding.geo.census.gov/geocoder/geographies/coordinates',\n",
    "        params={\n",
    "            'x': appealedproperty.lon,\n",
    "            'y': appealedproperty.lat,\n",
    "            'benchmark': 4,\n",
    "            'format': 'json',\n",
    "            'layers': 'census tracts',\n",
    "            'vintage': 4\n",
    "        }).json()\n",
    "\n",
    "    return r['result']['geographies']['Census Tracts'][0]['TRACT']"
   ]
  },
  {
   "cell_type": "markdown",
   "id": "faede4d8-81ff-4884-ae6a-62a84b9fa67e",
   "metadata": {
    "tags": []
   },
   "source": [
    "### Get residential appeals, merge with their coordinates"
   ]
  },
  {
   "cell_type": "code",
   "execution_count": 129,
   "id": "26b6b902-f889-41b2-91d0-eb357934df63",
   "metadata": {
    "tags": []
   },
   "outputs": [],
   "source": [
    "alreadyprocessed = pd.concat([\n",
    "    pd.read_csv('first1000.csv'), #0-1000\n",
    "    pd.read_csv('1000batch2.csv'), #1-2\n",
    "    pd.read_csv('1000batch3.csv'), #2-3\n",
    "    pd.read_csv('1000batch4.csv'), #3-4,\n",
    "    pd.read_csv('1000batch5.csv'), #4-5,\n",
    "    pd.read_csv('1000batch6.csv')\n",
    "])"
   ]
  },
  {
   "cell_type": "code",
   "execution_count": 130,
   "id": "c4f0f16e-7b78-444d-9050-d04a22f3d3af",
   "metadata": {
    "tags": []
   },
   "outputs": [],
   "source": [
    "# appeals = pd.read_sql_query(\"\"\"SELECT DISTINCT(appeals.parcelid), address, muni, lat, lon\n",
    "# FROM appeals\n",
    "# JOIN parcelcentroids\n",
    "# ON appeals.parcelid = parcelcentroids.parcelid\n",
    "# WHERE filer = 'PROPERTY OWNER'\n",
    "# AND type = 'R-RESIDENTIAL'\n",
    "# AND appealperiod IN ('2022S', '2023')\n",
    "# ORDER BY appeals.parcelid DESC;\"\"\", db)\n",
    "\n",
    "# appeals = appeals[~appeals.parcelid.isin(alreadyprocessed.parcelid)].head(1000)"
   ]
  },
  {
   "cell_type": "markdown",
   "id": "71c9146e-0f3c-4c41-b821-7cb8cc5d346b",
   "metadata": {},
   "source": [
    "### Get census tract for appeals"
   ]
  },
  {
   "cell_type": "code",
   "execution_count": 131,
   "id": "9bcbf2c9-c54e-4d09-b992-6410481e1a33",
   "metadata": {
    "tags": []
   },
   "outputs": [],
   "source": [
    "# appeals['tract'] = appeals.apply(get_appeal_tract, axis=1)\n",
    "# appeals"
   ]
  },
  {
   "cell_type": "code",
   "execution_count": null,
   "id": "6bd19fa3-2331-4b50-bafd-b35a95f516cc",
   "metadata": {},
   "outputs": [],
   "source": [
    "# https://geocoding.geo.census.gov/geocoder/locations/address?street=4600+Silver+Hill+Rd&city=Washington&state=DC&benchmark=2020&format=json\n",
    "# https://geocoding.geo.census.gov/geocoder/locations/coordinates?x=-80.056093834500544&y=40.608301167102347&benchmark=2020&format=json\n",
    "# https://api.census.gov/data/2021/acs/acs5/profile?get=NAME,DP03_0063E&for=tract:*&in=state:42%20county:003"
   ]
  },
  {
   "cell_type": "code",
   "execution_count": 135,
   "id": "818c4edc-a30b-4538-8165-f6ee74794577",
   "metadata": {
    "tags": []
   },
   "outputs": [
    {
     "data": {
      "text/html": [
       "<div>\n",
       "<style scoped>\n",
       "    .dataframe tbody tr th:only-of-type {\n",
       "        vertical-align: middle;\n",
       "    }\n",
       "\n",
       "    .dataframe tbody tr th {\n",
       "        vertical-align: top;\n",
       "    }\n",
       "\n",
       "    .dataframe thead th {\n",
       "        text-align: right;\n",
       "    }\n",
       "</style>\n",
       "<table border=\"1\" class=\"dataframe\">\n",
       "  <thead>\n",
       "    <tr style=\"text-align: right;\">\n",
       "      <th></th>\n",
       "      <th>tract</th>\n",
       "      <th>count</th>\n",
       "    </tr>\n",
       "  </thead>\n",
       "  <tbody>\n",
       "    <tr>\n",
       "      <th>0</th>\n",
       "      <td>437000</td>\n",
       "      <td>180</td>\n",
       "    </tr>\n",
       "    <tr>\n",
       "      <th>1</th>\n",
       "      <td>409002</td>\n",
       "      <td>93</td>\n",
       "    </tr>\n",
       "    <tr>\n",
       "      <th>2</th>\n",
       "      <td>409001</td>\n",
       "      <td>86</td>\n",
       "    </tr>\n",
       "    <tr>\n",
       "      <th>3</th>\n",
       "      <td>456003</td>\n",
       "      <td>82</td>\n",
       "    </tr>\n",
       "    <tr>\n",
       "      <th>4</th>\n",
       "      <td>422000</td>\n",
       "      <td>80</td>\n",
       "    </tr>\n",
       "    <tr>\n",
       "      <th>...</th>\n",
       "      <td>...</td>\n",
       "      <td>...</td>\n",
       "    </tr>\n",
       "    <tr>\n",
       "      <th>356</th>\n",
       "      <td>270300</td>\n",
       "      <td>1</td>\n",
       "    </tr>\n",
       "    <tr>\n",
       "      <th>357</th>\n",
       "      <td>485000</td>\n",
       "      <td>1</td>\n",
       "    </tr>\n",
       "    <tr>\n",
       "      <th>358</th>\n",
       "      <td>100500</td>\n",
       "      <td>1</td>\n",
       "    </tr>\n",
       "    <tr>\n",
       "      <th>359</th>\n",
       "      <td>80900</td>\n",
       "      <td>1</td>\n",
       "    </tr>\n",
       "    <tr>\n",
       "      <th>360</th>\n",
       "      <td>50100</td>\n",
       "      <td>1</td>\n",
       "    </tr>\n",
       "  </tbody>\n",
       "</table>\n",
       "<p>361 rows × 2 columns</p>\n",
       "</div>"
      ],
      "text/plain": [
       "      tract  count\n",
       "0    437000    180\n",
       "1    409002     93\n",
       "2    409001     86\n",
       "3    456003     82\n",
       "4    422000     80\n",
       "..      ...    ...\n",
       "356  270300      1\n",
       "357  485000      1\n",
       "358  100500      1\n",
       "359   80900      1\n",
       "360   50100      1\n",
       "\n",
       "[361 rows x 2 columns]"
      ]
     },
     "execution_count": 135,
     "metadata": {},
     "output_type": "execute_result"
    }
   ],
   "source": []
  },
  {
   "cell_type": "code",
   "execution_count": 183,
   "id": "092ac642-1049-4179-9618-0267eeeedff9",
   "metadata": {
    "tags": []
   },
   "outputs": [],
   "source": [
    "# with open('input/tractincome.json', 'r') as f:\n",
    "#     jsondata = json.load(f)\n",
    "\n",
    "# medincome: DP03_0063E\n",
    "# % bach or higher: DP02_0068PE\n",
    "\n",
    "census = requests.get(\n",
    "    'https://api.census.gov/data/2021/acs/acs5/profile?get=NAME,DP04_0089E&for=tract:*&in=state:42%20county:003'\n",
    ")\n",
    "census = census.json()\n",
    "census = pd.DataFrame(data=census[1:], columns=census[0])\n",
    "census = census.rename(columns={ 'DP04_0089E': 'censusvariable' })\n",
    "census['censusvariable'] = census.censusvariable.astype('float64')\n",
    "census['tract'] = census.tract.astype('int64')"
   ]
  },
  {
   "cell_type": "code",
   "execution_count": 184,
   "id": "c7f1303c-7ddd-42bb-bcba-c106a62ce82a",
   "metadata": {
    "tags": []
   },
   "outputs": [],
   "source": [
    "merged = pd.merge(\n",
    "    alreadyprocessed.tract.value_counts().to_frame().reset_index(),\n",
    "    census,\n",
    "    on='tract',\n",
    "    how='outer'\n",
    ")\n",
    "merged['count'] = merged['count'].fillna(0)\n",
    "# merged.to_csv('merged.csv', index=False)"
   ]
  },
  {
   "cell_type": "code",
   "execution_count": 155,
   "id": "719b61c9-b02c-4adc-82e8-9aad582ecb47",
   "metadata": {
    "tags": []
   },
   "outputs": [],
   "source": [
    "# merged.sort_values(by='medincome')"
   ]
  },
  {
   "cell_type": "code",
   "execution_count": 185,
   "id": "d4e0688a-987a-4f74-8951-785612637651",
   "metadata": {
    "tags": []
   },
   "outputs": [
    {
     "data": {
      "text/plain": [
       "<Axes: xlabel='censusvariable', ylabel='count'>"
      ]
     },
     "execution_count": 185,
     "metadata": {},
     "output_type": "execute_result"
    },
    {
     "data": {
      "image/png": "[encoded data removed]",
      "text/plain": [
       "<Figure size 640x480 with 1 Axes>"
      ]
     },
     "metadata": {},
     "output_type": "display_data"
    }
   ],
   "source": [
    "merged[merged.censusvariable > 0].plot.scatter(x='censusvariable', y='count')"
   ]
  }
 ],
 "metadata": {
  "kernelspec": {
   "display_name": "Python 3 (ipykernel)",
   "language": "python",
   "name": "python3"
  },
  "language_info": {
   "codemirror_mode": {
    "name": "ipython",
    "version": 3
   },
   "file_extension": ".py",
   "mimetype": "text/x-python",
   "name": "python",
   "nbconvert_exporter": "python",
   "pygments_lexer": "ipython3",
   "version": "3.9.16"
  }
 },
 "nbformat": 4,
 "nbformat_minor": 5
}
