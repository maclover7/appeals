{
 "cells": [
  {
   "cell_type": "markdown",
   "id": "e348d89c-fa72-4bdb-8193-bb8f94a83f4d",
   "metadata": {},
   "source": [
    "# Analyze residential property assessment appeals for 2022S and 2023"
   ]
  },
  {
   "cell_type": "code",
   "execution_count": 1,
   "id": "3e490b29-ba44-4e0f-9dae-00cf5a795eaa",
   "metadata": {
    "tags": []
   },
   "outputs": [],
   "source": [
    "from sqlalchemy import create_engine\n",
    "import pandas as pd"
   ]
  },
  {
   "cell_type": "code",
   "execution_count": 2,
   "id": "5d0e6eeb-faaf-4d0a-8153-3547f7300f1f",
   "metadata": {
    "tags": []
   },
   "outputs": [],
   "source": [
    "db = create_engine('postgresql://jon@localhost:5432/propertydb')"
   ]
  },
  {
   "cell_type": "markdown",
   "id": "ea21954b-10e9-45f2-bd2d-90ec91415abb",
   "metadata": {},
   "source": [
    "### Appeals for 2015-21"
   ]
  },
  {
   "cell_type": "code",
   "execution_count": 3,
   "id": "6fc237f1-b8b4-45ec-980a-c214e68cb918",
   "metadata": {
    "tags": []
   },
   "outputs": [],
   "source": [
    "# https://data.wprdc.org/datastore/dump/67b18589-7bf5-4ca5-8767-3bceb318522c?q=&sort=_id+asc&fields=PARCEL+ID,TAX+YEAR,CLASS,CLASS+GROUP,TAX_STATUS,MUNI_CODE,MUNI_NAME,SCHOOL_CODE,SCHOOL_DISTRICT,COMPLAINANT&filters={\"TAX+YEAR\":+[\"2015\",+\"2016\",+\"2017\",+\"2018\",+\"2019\",+\"2020\",+\"2021\"]}&format=csv\n",
    "wprdcappeals = pd.read_csv('input/appeals-2015-21.csv')"
   ]
  },
  {
   "cell_type": "code",
   "execution_count": 4,
   "id": "e4459ce9-c85d-4f8b-982d-4a62297410a4",
   "metadata": {
    "tags": []
   },
   "outputs": [],
   "source": [
    "wprdcappeals = wprdcappeals[(wprdcappeals.CLASS == 'RESIDENTIAL') & (wprdcappeals.TAX_STATUS == 'TAXABLE')]\n",
    "wprdcappeals = wprdcappeals.rename(columns={'TAX YEAR': 'appealperiod', 'COMPLAINANT': 'filer'})"
   ]
  },
  {
   "cell_type": "code",
   "execution_count": 5,
   "id": "95fa1e88-7c38-4031-a6d9-eb35e77f9f19",
   "metadata": {
    "tags": []
   },
   "outputs": [],
   "source": [
    "wprdcappeals = pd.pivot_table(wprdcappeals, index='appealperiod', columns='filer', values='PARCEL ID', aggfunc='count')\n",
    "wprdcappeals = wprdcappeals.fillna(0)"
   ]
  },
  {
   "cell_type": "code",
   "execution_count": 6,
   "id": "55272e8e-a63e-4c59-abda-dc1954d8ad22",
   "metadata": {
    "tags": []
   },
   "outputs": [],
   "source": [
    "wprdcappeals['MUNICIPALITY'] = wprdcappeals['Muni/School'] + wprdcappeals['Municipality'] + wprdcappeals['O/M/S'] + wprdcappeals['Owner/Muni']\n",
    "wprdcappeals['PROPERTY OWNER'] = wprdcappeals['O/M/S'] + wprdcappeals['Owner'] + wprdcappeals['Owner/Muni'] + wprdcappeals['Owner/School']\n",
    "wprdcappeals['SCHOOL DISTRICT'] = wprdcappeals['Muni/School'] + wprdcappeals['O/M/S'] + wprdcappeals['Owner/School'] + wprdcappeals['School District']\n",
    "\n",
    "wprdcappeals = wprdcappeals[[\n",
    "    'MUNICIPALITY',\n",
    "    'PROPERTY OWNER',\n",
    "    'SCHOOL DISTRICT'\n",
    "]]"
   ]
  },
  {
   "cell_type": "code",
   "execution_count": 7,
   "id": "b207a31c-c56f-4a21-bff8-cdc8235b4d07",
   "metadata": {
    "tags": []
   },
   "outputs": [
    {
     "data": {
      "text/html": [
       "<div>\n",
       "<style scoped>\n",
       "    .dataframe tbody tr th:only-of-type {\n",
       "        vertical-align: middle;\n",
       "    }\n",
       "\n",
       "    .dataframe tbody tr th {\n",
       "        vertical-align: top;\n",
       "    }\n",
       "\n",
       "    .dataframe thead th {\n",
       "        text-align: right;\n",
       "    }\n",
       "</style>\n",
       "<table border=\"1\" class=\"dataframe\">\n",
       "  <thead>\n",
       "    <tr style=\"text-align: right;\">\n",
       "      <th>filer</th>\n",
       "      <th>MUNICIPALITY</th>\n",
       "      <th>PROPERTY OWNER</th>\n",
       "      <th>SCHOOL DISTRICT</th>\n",
       "    </tr>\n",
       "    <tr>\n",
       "      <th>appealperiod</th>\n",
       "      <th></th>\n",
       "      <th></th>\n",
       "      <th></th>\n",
       "    </tr>\n",
       "  </thead>\n",
       "  <tbody>\n",
       "    <tr>\n",
       "      <th>2015</th>\n",
       "      <td>1342.0</td>\n",
       "      <td>3015.0</td>\n",
       "      <td>2606.0</td>\n",
       "    </tr>\n",
       "    <tr>\n",
       "      <th>2016</th>\n",
       "      <td>48.0</td>\n",
       "      <td>2816.0</td>\n",
       "      <td>3506.0</td>\n",
       "    </tr>\n",
       "    <tr>\n",
       "      <th>2017</th>\n",
       "      <td>18.0</td>\n",
       "      <td>2420.0</td>\n",
       "      <td>3724.0</td>\n",
       "    </tr>\n",
       "    <tr>\n",
       "      <th>2018</th>\n",
       "      <td>6.0</td>\n",
       "      <td>2054.0</td>\n",
       "      <td>3758.0</td>\n",
       "    </tr>\n",
       "    <tr>\n",
       "      <th>2019</th>\n",
       "      <td>8.0</td>\n",
       "      <td>1868.0</td>\n",
       "      <td>5253.0</td>\n",
       "    </tr>\n",
       "    <tr>\n",
       "      <th>2020</th>\n",
       "      <td>133.0</td>\n",
       "      <td>1523.0</td>\n",
       "      <td>5703.0</td>\n",
       "    </tr>\n",
       "    <tr>\n",
       "      <th>2021</th>\n",
       "      <td>243.0</td>\n",
       "      <td>1219.0</td>\n",
       "      <td>8075.0</td>\n",
       "    </tr>\n",
       "  </tbody>\n",
       "</table>\n",
       "</div>"
      ],
      "text/plain": [
       "filer         MUNICIPALITY  PROPERTY OWNER  SCHOOL DISTRICT\n",
       "appealperiod                                               \n",
       "2015                1342.0          3015.0           2606.0\n",
       "2016                  48.0          2816.0           3506.0\n",
       "2017                  18.0          2420.0           3724.0\n",
       "2018                   6.0          2054.0           3758.0\n",
       "2019                   8.0          1868.0           5253.0\n",
       "2020                 133.0          1523.0           5703.0\n",
       "2021                 243.0          1219.0           8075.0"
      ]
     },
     "execution_count": 7,
     "metadata": {},
     "output_type": "execute_result"
    }
   ],
   "source": [
    "wprdcappeals"
   ]
  },
  {
   "cell_type": "markdown",
   "id": "6abdf034-a4d0-4b63-b41a-c1bd67ef3769",
   "metadata": {},
   "source": [
    "### Appeals for 2022R, 2022S and 2023"
   ]
  },
  {
   "cell_type": "code",
   "execution_count": 8,
   "id": "38db64ca-0256-4be1-99f7-d1150393a07f",
   "metadata": {
    "tags": []
   },
   "outputs": [],
   "source": [
    "dbappeals = pd.read_sql_query(\"\"\"SELECT appeals.*\n",
    "FROM appeals\n",
    "JOIN assessments\n",
    "ON appeals.parcelid = assessments.parcelid\n",
    "WHERE appeals.type IN ('R', 'R-RESIDENTIAL')\n",
    "AND appeals.appealperiod IN ('2022R', '2022S', '2023')\n",
    "AND assessments.taxcode = 'T';\"\"\", db)"
   ]
  },
  {
   "cell_type": "code",
   "execution_count": 9,
   "id": "61ae9ed3-62f0-44dc-b8b8-95be282901db",
   "metadata": {
    "tags": []
   },
   "outputs": [],
   "source": [
    "dbappeals = pd.pivot_table(dbappeals, index='appealperiod', columns='filer', values='parcelid', aggfunc='count')"
   ]
  },
  {
   "cell_type": "markdown",
   "id": "c0f7fe6e-7cf0-428f-882a-1b011909ab36",
   "metadata": {},
   "source": [
    "### Merge all appeals together, save to CSV"
   ]
  },
  {
   "cell_type": "code",
   "execution_count": 10,
   "id": "4b9a49ba-31a8-4123-854b-53460931dcf2",
   "metadata": {
    "tags": []
   },
   "outputs": [],
   "source": [
    "allappeals = pd.concat([wprdcappeals, dbappeals])"
   ]
  },
  {
   "cell_type": "code",
   "execution_count": 11,
   "id": "7e50a29e-92e1-4537-b79f-809ba8f516d1",
   "metadata": {
    "tags": []
   },
   "outputs": [
    {
     "data": {
      "text/html": [
       "<div>\n",
       "<style scoped>\n",
       "    .dataframe tbody tr th:only-of-type {\n",
       "        vertical-align: middle;\n",
       "    }\n",
       "\n",
       "    .dataframe tbody tr th {\n",
       "        vertical-align: top;\n",
       "    }\n",
       "\n",
       "    .dataframe thead th {\n",
       "        text-align: right;\n",
       "    }\n",
       "</style>\n",
       "<table border=\"1\" class=\"dataframe\">\n",
       "  <thead>\n",
       "    <tr style=\"text-align: right;\">\n",
       "      <th>filer</th>\n",
       "      <th>MUNICIPALITY</th>\n",
       "      <th>PROPERTY OWNER</th>\n",
       "      <th>SCHOOL DISTRICT</th>\n",
       "    </tr>\n",
       "    <tr>\n",
       "      <th>appealperiod</th>\n",
       "      <th></th>\n",
       "      <th></th>\n",
       "      <th></th>\n",
       "    </tr>\n",
       "  </thead>\n",
       "  <tbody>\n",
       "    <tr>\n",
       "      <th>2015</th>\n",
       "      <td>1342.0</td>\n",
       "      <td>3015.0</td>\n",
       "      <td>2606.0</td>\n",
       "    </tr>\n",
       "    <tr>\n",
       "      <th>2016</th>\n",
       "      <td>48.0</td>\n",
       "      <td>2816.0</td>\n",
       "      <td>3506.0</td>\n",
       "    </tr>\n",
       "    <tr>\n",
       "      <th>2017</th>\n",
       "      <td>18.0</td>\n",
       "      <td>2420.0</td>\n",
       "      <td>3724.0</td>\n",
       "    </tr>\n",
       "    <tr>\n",
       "      <th>2018</th>\n",
       "      <td>6.0</td>\n",
       "      <td>2054.0</td>\n",
       "      <td>3758.0</td>\n",
       "    </tr>\n",
       "    <tr>\n",
       "      <th>2019</th>\n",
       "      <td>8.0</td>\n",
       "      <td>1868.0</td>\n",
       "      <td>5253.0</td>\n",
       "    </tr>\n",
       "    <tr>\n",
       "      <th>2020</th>\n",
       "      <td>133.0</td>\n",
       "      <td>1523.0</td>\n",
       "      <td>5703.0</td>\n",
       "    </tr>\n",
       "    <tr>\n",
       "      <th>2021</th>\n",
       "      <td>243.0</td>\n",
       "      <td>1219.0</td>\n",
       "      <td>8075.0</td>\n",
       "    </tr>\n",
       "    <tr>\n",
       "      <th>2022R</th>\n",
       "      <td>216.0</td>\n",
       "      <td>882.0</td>\n",
       "      <td>10545.0</td>\n",
       "    </tr>\n",
       "    <tr>\n",
       "      <th>2022S</th>\n",
       "      <td>1.0</td>\n",
       "      <td>4478.0</td>\n",
       "      <td>1312.0</td>\n",
       "    </tr>\n",
       "    <tr>\n",
       "      <th>2023</th>\n",
       "      <td>204.0</td>\n",
       "      <td>4166.0</td>\n",
       "      <td>5879.0</td>\n",
       "    </tr>\n",
       "  </tbody>\n",
       "</table>\n",
       "</div>"
      ],
      "text/plain": [
       "filer         MUNICIPALITY  PROPERTY OWNER  SCHOOL DISTRICT\n",
       "appealperiod                                               \n",
       "2015                1342.0          3015.0           2606.0\n",
       "2016                  48.0          2816.0           3506.0\n",
       "2017                  18.0          2420.0           3724.0\n",
       "2018                   6.0          2054.0           3758.0\n",
       "2019                   8.0          1868.0           5253.0\n",
       "2020                 133.0          1523.0           5703.0\n",
       "2021                 243.0          1219.0           8075.0\n",
       "2022R                216.0           882.0          10545.0\n",
       "2022S                  1.0          4478.0           1312.0\n",
       "2023                 204.0          4166.0           5879.0"
      ]
     },
     "execution_count": 11,
     "metadata": {},
     "output_type": "execute_result"
    }
   ],
   "source": [
    "allappeals"
   ]
  },
  {
   "cell_type": "code",
   "execution_count": 12,
   "id": "4abc8def-bf9f-4690-b227-bfbfe3ff3e1e",
   "metadata": {
    "tags": []
   },
   "outputs": [],
   "source": [
    "allappeals.to_csv('output/residential-filers.csv')"
   ]
  }
 ],
 "metadata": {
  "kernelspec": {
   "display_name": "Python 3 (ipykernel)",
   "language": "python",
   "name": "python3"
  },
  "language_info": {
   "codemirror_mode": {
    "name": "ipython",
    "version": 3
   },
   "file_extension": ".py",
   "mimetype": "text/x-python",
   "name": "python",
   "nbconvert_exporter": "python",
   "pygments_lexer": "ipython3",
   "version": "3.9.17"
  }
 },
 "nbformat": 4,
 "nbformat_minor": 5
}
