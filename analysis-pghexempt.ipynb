{
 "cells": [
  {
   "cell_type": "markdown",
   "id": "93815584-6a2c-4c6f-8963-ec83d05c8289",
   "metadata": {},
   "source": [
    "# Analyze city challenges to tax-exempt properties"
   ]
  },
  {
   "cell_type": "code",
   "execution_count": 1,
   "id": "f5e2630e-8bda-4685-9bd1-c370b10e4353",
   "metadata": {
    "tags": []
   },
   "outputs": [],
   "source": [
    "from bs4 import BeautifulSoup\n",
    "from sqlalchemy import create_engine\n",
    "import geopandas as gpd\n",
    "import pandas as pd\n",
    "import requests"
   ]
  },
  {
   "cell_type": "code",
   "execution_count": 2,
   "id": "da83b59e-0f6c-4796-b616-4d5e298e3295",
   "metadata": {
    "tags": []
   },
   "outputs": [],
   "source": [
    "db = create_engine('postgresql://jon@localhost:5432/propertydb')"
   ]
  },
  {
   "cell_type": "code",
   "execution_count": 3,
   "id": "22d0d0a2-70f8-46cd-b876-0ed9ae67c00a",
   "metadata": {
    "tags": []
   },
   "outputs": [],
   "source": [
    "parcels = pd.read_csv('input/pghexempt.csv')"
   ]
  },
  {
   "cell_type": "markdown",
   "id": "21dde59e-c80d-4d10-b8eb-1ba66f672a82",
   "metadata": {},
   "source": [
    "### Load parcel data"
   ]
  },
  {
   "cell_type": "code",
   "execution_count": 4,
   "id": "1cf8844d-28ef-47a4-858d-d00898149d11",
   "metadata": {
    "tags": []
   },
   "outputs": [],
   "source": [
    "parcelpoints = gpd.read_postgis(\"\"\"SELECT parcelcentroids.parcelid, parcelmbl, taxdesc, localtotal::int, ST_MakePoint(lon::float, lat::float) AS geom\n",
    "FROM parcelcentroids\n",
    "JOIN assessments\n",
    "ON assessments.parcelid = parcelcentroids.parcelid\n",
    "WHERE parcelmbl IN %(parcels)s;\"\"\", db, params={'parcels': tuple(parcels.parcelmbl)}, crs='EPSG:4269')\n",
    "parcelpoints = parcelpoints.to_crs('EPSG:4326')"
   ]
  },
  {
   "cell_type": "code",
   "execution_count": 5,
   "id": "93b68c65-727a-47ff-92dd-a209fddb41d4",
   "metadata": {},
   "outputs": [],
   "source": [
    "parcels = parcelpoints.merge(parcels, on='parcelmbl')"
   ]
  },
  {
   "cell_type": "markdown",
   "id": "6962d6fc-a87b-473b-a9c8-390255dbabf7",
   "metadata": {},
   "source": [
    "### Set attributes, export for Datawrapper"
   ]
  },
  {
   "cell_type": "code",
   "execution_count": 6,
   "id": "eeef8daf-2616-47f8-a910-462f27e4b64f",
   "metadata": {
    "tags": []
   },
   "outputs": [],
   "source": [
    "parcels['title'] = ''\n",
    "parcels['tooltip'] = '<b>Parcel ID:</b> ' + parcels.parcelmbl + '<br><b>Owner:</b> ' + parcels.owner\n",
    "\n",
    "parcels['color'] = 'black'\n",
    "parcels.loc[parcels.owner == 'Allegheny General Hospital', 'color'] = '#008000'\n",
    "parcels.loc[parcels.owner == 'Carnegie Mellon University', 'color'] = '#FF0000'\n",
    "parcels.loc[parcels.owner == 'Presbyterian University Health System (UPMC)', 'color'] = '#800080'\n",
    "parcels.loc[parcels.owner == 'University of Pittsburgh', 'color'] = '#0000FF'"
   ]
  },
  {
   "cell_type": "code",
   "execution_count": 7,
   "id": "894b1668-a3b6-4adf-9a28-c966f1a3756c",
   "metadata": {
    "tags": []
   },
   "outputs": [],
   "source": [
    "parcels[['title', 'tooltip', 'color', 'geom']].sort_values(by='tooltip').to_file('output/pghexempt.geojson', driver='GeoJSON')"
   ]
  },
  {
   "cell_type": "markdown",
   "id": "36705b8a-9b64-4b40-a03e-22a57094219c",
   "metadata": {},
   "source": [
    "### Check outcome of challenges"
   ]
  },
  {
   "cell_type": "code",
   "execution_count": 8,
   "id": "060a9ff5-ac81-43dc-9c8e-818ca594faff",
   "metadata": {
    "tags": []
   },
   "outputs": [
    {
     "data": {
      "text/html": [
       "<div>\n",
       "<style scoped>\n",
       "    .dataframe tbody tr th:only-of-type {\n",
       "        vertical-align: middle;\n",
       "    }\n",
       "\n",
       "    .dataframe tbody tr th {\n",
       "        vertical-align: top;\n",
       "    }\n",
       "\n",
       "    .dataframe thead th {\n",
       "        text-align: right;\n",
       "    }\n",
       "</style>\n",
       "<table border=\"1\" class=\"dataframe\">\n",
       "  <thead>\n",
       "    <tr style=\"text-align: right;\">\n",
       "      <th></th>\n",
       "      <th>asofdate</th>\n",
       "    </tr>\n",
       "  </thead>\n",
       "  <tbody>\n",
       "    <tr>\n",
       "      <th>0</th>\n",
       "      <td>2023-09-01</td>\n",
       "    </tr>\n",
       "  </tbody>\n",
       "</table>\n",
       "</div>"
      ],
      "text/plain": [
       "     asofdate\n",
       "0  2023-09-01"
      ]
     },
     "execution_count": 8,
     "metadata": {},
     "output_type": "execute_result"
    }
   ],
   "source": [
    "pd.read_sql_query(\"\"\"SELECT DISTINCT(asofdate) FROM assessments;\"\"\", db)"
   ]
  },
  {
   "cell_type": "markdown",
   "id": "ac05f58f-4bb3-419d-84d6-e66469ad40c7",
   "metadata": {},
   "source": [
    "##### Get newest now-taxable properties from the county website"
   ]
  },
  {
   "cell_type": "code",
   "execution_count": 9,
   "id": "431c789a-0d01-4fec-af91-5e83e4cc2459",
   "metadata": {
    "tags": []
   },
   "outputs": [],
   "source": [
    "for index, row in parcels.iterrows():\n",
    "    response = requests.get('https://www2.alleghenycounty.us/RealEstate/GeneralInfo.aspx', params={ 'ParcelID': row.parcelid })\n",
    "    response = BeautifulSoup(response.text, 'html.parser')\n",
    "\n",
    "    parcels.loc[index, 'PORTALtaxdec'] = response.find('span', id='lblTax').contents[0]"
   ]
  },
  {
   "cell_type": "code",
   "execution_count": 10,
   "id": "5ec20dca-46f9-4cf9-8942-b3e260dc4845",
   "metadata": {
    "tags": []
   },
   "outputs": [
    {
     "data": {
      "text/html": [
       "<div>\n",
       "<style scoped>\n",
       "    .dataframe tbody tr th:only-of-type {\n",
       "        vertical-align: middle;\n",
       "    }\n",
       "\n",
       "    .dataframe tbody tr th {\n",
       "        vertical-align: top;\n",
       "    }\n",
       "\n",
       "    .dataframe thead th {\n",
       "        text-align: right;\n",
       "    }\n",
       "</style>\n",
       "<table border=\"1\" class=\"dataframe\">\n",
       "  <thead>\n",
       "    <tr style=\"text-align: right;\">\n",
       "      <th></th>\n",
       "      <th>parcelid</th>\n",
       "      <th>parcelmbl</th>\n",
       "      <th>taxdesc</th>\n",
       "      <th>localtotal</th>\n",
       "      <th>geom</th>\n",
       "      <th>owner</th>\n",
       "      <th>title</th>\n",
       "      <th>tooltip</th>\n",
       "      <th>color</th>\n",
       "      <th>PORTALtaxdec</th>\n",
       "    </tr>\n",
       "  </thead>\n",
       "  <tbody>\n",
       "  </tbody>\n",
       "</table>\n",
       "</div>"
      ],
      "text/plain": [
       "Empty GeoDataFrame\n",
       "Columns: [parcelid, parcelmbl, taxdesc, localtotal, geom, owner, title, tooltip, color, PORTALtaxdec]\n",
       "Index: []"
      ]
     },
     "execution_count": 10,
     "metadata": {},
     "output_type": "execute_result"
    }
   ],
   "source": [
    "parcels[(parcels.PORTALtaxdec == 'Taxable') & (parcels.taxdesc == '10 - Exempt')]"
   ]
  },
  {
   "cell_type": "markdown",
   "id": "9694c869-1720-4da1-80c4-db2da07a6176",
   "metadata": {},
   "source": [
    "##### By tax status, taxable value"
   ]
  },
  {
   "cell_type": "code",
   "execution_count": 11,
   "id": "011eed86-a1f5-4899-bf8f-e10949723403",
   "metadata": {
    "tags": []
   },
   "outputs": [
    {
     "data": {
      "text/html": [
       "<div>\n",
       "<style scoped>\n",
       "    .dataframe tbody tr th:only-of-type {\n",
       "        vertical-align: middle;\n",
       "    }\n",
       "\n",
       "    .dataframe tbody tr th {\n",
       "        vertical-align: top;\n",
       "    }\n",
       "\n",
       "    .dataframe thead th {\n",
       "        text-align: right;\n",
       "    }\n",
       "</style>\n",
       "<table border=\"1\" class=\"dataframe\">\n",
       "  <thead>\n",
       "    <tr style=\"text-align: right;\">\n",
       "      <th></th>\n",
       "      <th>parcelmbl</th>\n",
       "      <th>localtotal</th>\n",
       "      <th>city_annualtaxbill</th>\n",
       "      <th>pct_parcelmbl</th>\n",
       "      <th>pct_localtotal</th>\n",
       "    </tr>\n",
       "    <tr>\n",
       "      <th>taxdesc</th>\n",
       "      <th></th>\n",
       "      <th></th>\n",
       "      <th></th>\n",
       "      <th></th>\n",
       "      <th></th>\n",
       "    </tr>\n",
       "  </thead>\n",
       "  <tbody>\n",
       "    <tr>\n",
       "      <th>10 - Exempt</th>\n",
       "      <td>17</td>\n",
       "      <td>64059600</td>\n",
       "      <td>516320.376</td>\n",
       "      <td>0.653846</td>\n",
       "      <td>0.882219</td>\n",
       "    </tr>\n",
       "    <tr>\n",
       "      <th>20 - Taxable</th>\n",
       "      <td>9</td>\n",
       "      <td>8552300</td>\n",
       "      <td>68931.538</td>\n",
       "      <td>0.346154</td>\n",
       "      <td>0.117781</td>\n",
       "    </tr>\n",
       "  </tbody>\n",
       "</table>\n",
       "</div>"
      ],
      "text/plain": [
       "              parcelmbl  localtotal  city_annualtaxbill  pct_parcelmbl  \\\n",
       "taxdesc                                                                  \n",
       "10 - Exempt          17    64059600          516320.376       0.653846   \n",
       "20 - Taxable          9     8552300           68931.538       0.346154   \n",
       "\n",
       "              pct_localtotal  \n",
       "taxdesc                       \n",
       "10 - Exempt         0.882219  \n",
       "20 - Taxable        0.117781  "
      ]
     },
     "execution_count": 11,
     "metadata": {},
     "output_type": "execute_result"
    }
   ],
   "source": [
    "summary = parcels.groupby('taxdesc').agg({ 'parcelmbl': 'count', 'localtotal': 'sum' })\n",
    "summary['city_annualtaxbill'] = (summary.localtotal / 1000) * 8.06\n",
    "summary['pct_parcelmbl'] = summary.parcelmbl / summary.parcelmbl.sum()\n",
    "summary['pct_localtotal'] = summary.localtotal / summary.localtotal.sum()\n",
    "\n",
    "summary"
   ]
  },
  {
   "cell_type": "markdown",
   "id": "8ff40860-c86b-42ca-953b-109781cb722b",
   "metadata": {},
   "source": [
    "##### By owner"
   ]
  },
  {
   "cell_type": "code",
   "execution_count": 12,
   "id": "75a9354e-01e0-4fce-aa28-661e46dbd555",
   "metadata": {
    "tags": []
   },
   "outputs": [
    {
     "data": {
      "text/html": [
       "<div>\n",
       "<style scoped>\n",
       "    .dataframe tbody tr th:only-of-type {\n",
       "        vertical-align: middle;\n",
       "    }\n",
       "\n",
       "    .dataframe tbody tr th {\n",
       "        vertical-align: top;\n",
       "    }\n",
       "\n",
       "    .dataframe thead th {\n",
       "        text-align: right;\n",
       "    }\n",
       "</style>\n",
       "<table border=\"1\" class=\"dataframe\">\n",
       "  <thead>\n",
       "    <tr style=\"text-align: right;\">\n",
       "      <th></th>\n",
       "      <th></th>\n",
       "      <th>parcelmbl</th>\n",
       "    </tr>\n",
       "    <tr>\n",
       "      <th>owner</th>\n",
       "      <th>taxdesc</th>\n",
       "      <th></th>\n",
       "    </tr>\n",
       "  </thead>\n",
       "  <tbody>\n",
       "    <tr>\n",
       "      <th>8033 Bennet Street RE LLC</th>\n",
       "      <th>20 - Taxable</th>\n",
       "      <td>1</td>\n",
       "    </tr>\n",
       "    <tr>\n",
       "      <th>Allegheny General Hospital</th>\n",
       "      <th>10 - Exempt</th>\n",
       "      <td>1</td>\n",
       "    </tr>\n",
       "    <tr>\n",
       "      <th>Carnegie Mellon University</th>\n",
       "      <th>20 - Taxable</th>\n",
       "      <td>2</td>\n",
       "    </tr>\n",
       "    <tr>\n",
       "      <th>Community Options Inc.</th>\n",
       "      <th>10 - Exempt</th>\n",
       "      <td>1</td>\n",
       "    </tr>\n",
       "    <tr>\n",
       "      <th>Karpeles Manuscript Library</th>\n",
       "      <th>10 - Exempt</th>\n",
       "      <td>1</td>\n",
       "    </tr>\n",
       "    <tr>\n",
       "      <th>Mr. Property LLC</th>\n",
       "      <th>20 - Taxable</th>\n",
       "      <td>1</td>\n",
       "    </tr>\n",
       "    <tr>\n",
       "      <th>NCSC USA Housing Development Corp.</th>\n",
       "      <th>10 - Exempt</th>\n",
       "      <td>1</td>\n",
       "    </tr>\n",
       "    <tr>\n",
       "      <th>Presbyterian University Health System (UPMC)</th>\n",
       "      <th>10 - Exempt</th>\n",
       "      <td>6</td>\n",
       "    </tr>\n",
       "    <tr>\n",
       "      <th rowspan=\"2\" valign=\"top\">Private citizen</th>\n",
       "      <th>10 - Exempt</th>\n",
       "      <td>5</td>\n",
       "    </tr>\n",
       "    <tr>\n",
       "      <th>20 - Taxable</th>\n",
       "      <td>4</td>\n",
       "    </tr>\n",
       "    <tr>\n",
       "      <th>School Facility Development</th>\n",
       "      <th>10 - Exempt</th>\n",
       "      <td>1</td>\n",
       "    </tr>\n",
       "    <tr>\n",
       "      <th>University of Pittsburgh</th>\n",
       "      <th>20 - Taxable</th>\n",
       "      <td>1</td>\n",
       "    </tr>\n",
       "    <tr>\n",
       "      <th>Village of Shadyside Community Association</th>\n",
       "      <th>10 - Exempt</th>\n",
       "      <td>1</td>\n",
       "    </tr>\n",
       "  </tbody>\n",
       "</table>\n",
       "</div>"
      ],
      "text/plain": [
       "                                                           parcelmbl\n",
       "owner                                        taxdesc                \n",
       "8033 Bennet Street RE LLC                    20 - Taxable          1\n",
       "Allegheny General Hospital                   10 - Exempt           1\n",
       "Carnegie Mellon University                   20 - Taxable          2\n",
       "Community Options Inc.                       10 - Exempt           1\n",
       "Karpeles Manuscript Library                  10 - Exempt           1\n",
       "Mr. Property LLC                             20 - Taxable          1\n",
       "NCSC USA Housing Development Corp.           10 - Exempt           1\n",
       "Presbyterian University Health System (UPMC) 10 - Exempt           6\n",
       "Private citizen                              10 - Exempt           5\n",
       "                                             20 - Taxable          4\n",
       "School Facility Development                  10 - Exempt           1\n",
       "University of Pittsburgh                     20 - Taxable          1\n",
       "Village of Shadyside Community Association   10 - Exempt           1"
      ]
     },
     "execution_count": 12,
     "metadata": {},
     "output_type": "execute_result"
    }
   ],
   "source": [
    "pd.pivot_table(parcels, index=['owner', 'taxdesc'], values='parcelmbl', aggfunc='count')"
   ]
  }
 ],
 "metadata": {
  "kernelspec": {
   "display_name": "Python 3 (ipykernel)",
   "language": "python",
   "name": "python3"
  },
  "language_info": {
   "codemirror_mode": {
    "name": "ipython",
    "version": 3
   },
   "file_extension": ".py",
   "mimetype": "text/x-python",
   "name": "python",
   "nbconvert_exporter": "python",
   "pygments_lexer": "ipython3",
   "version": "3.9.18"
  }
 },
 "nbformat": 4,
 "nbformat_minor": 5
}
