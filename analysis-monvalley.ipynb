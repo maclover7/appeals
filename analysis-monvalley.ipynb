{
 "cells": [
  {
   "cell_type": "markdown",
   "id": "77581c66-58fe-43d5-83cd-06d61ca1aee1",
   "metadata": {},
   "source": [
    "# Analyze Mon Valley property assessment appeals for 2022S and 2023"
   ]
  },
  {
   "cell_type": "code",
   "execution_count": 1,
   "id": "2d6cd860-ed5f-44de-9bac-a17b96c43f0c",
   "metadata": {
    "tags": []
   },
   "outputs": [],
   "source": [
    "from sqlalchemy import create_engine\n",
    "import pandas as pd"
   ]
  },
  {
   "cell_type": "code",
   "execution_count": 2,
   "id": "3407d484-bd21-4ec1-978d-21313e94a8c3",
   "metadata": {
    "tags": []
   },
   "outputs": [],
   "source": [
    "db = create_engine('postgresql://jon@localhost:5432/propertydb')"
   ]
  },
  {
   "cell_type": "code",
   "execution_count": 3,
   "id": "040e7ced-c9ff-4367-b748-00e0c626f22f",
   "metadata": {
    "tags": []
   },
   "outputs": [],
   "source": [
    "allappeals = pd.read_sql_query(\"\"\"SELECT DISTINCT(parcelid)\n",
    "FROM appeals\n",
    "WHERE filer = 'PROPERTY OWNER'\n",
    "AND appealperiod IN ('2022S', '2023');\"\"\", db)"
   ]
  },
  {
   "cell_type": "markdown",
   "id": "a676600c-9903-4f5e-80aa-fc06459703dd",
   "metadata": {},
   "source": [
    "### Select waterfront parcels, appeals by property owner"
   ]
  },
  {
   "cell_type": "code",
   "execution_count": 4,
   "id": "bf27744f-ab11-42de-a137-62e13ed4fdc2",
   "metadata": {
    "tags": []
   },
   "outputs": [],
   "source": [
    "mjwaterfrontproperties = pd.read_sql_query(\"\"\"SELECT DISTINCT(parcelid), municode, munidesc, fairmarkettotal::int, localtotal::int, parcelboundaries.wkt\n",
    "FROM assessments\n",
    "JOIN parcelboundaries\n",
    "ON assessments.parcelid = parcelboundaries.pin\n",
    "WHERE taxcode = 'T'\n",
    "AND municode IN ('834', '840', '863')\n",
    "AND (changenoticeaddress1 LIKE '20%%S%%CLARK%%ST%%' OR changenoticeaddress1 LIKE '180%%MICHIGAN%%AVE%%');\"\"\", db)"
   ]
  },
  {
   "cell_type": "code",
   "execution_count": 5,
   "id": "b335b762-2e73-4820-aceb-cf31c6c33840",
   "metadata": {
    "tags": []
   },
   "outputs": [],
   "source": [
    "mjwaterfrontproperties['appeal'] = mjwaterfrontproperties.parcelid.isin(allappeals.parcelid)\n",
    "\n",
    "mjwaterfrontproperties['fill'] = ''\n",
    "mjwaterfrontproperties.loc[mjwaterfrontproperties.appeal, 'fill'] = '#fa8c00'"
   ]
  },
  {
   "cell_type": "code",
   "execution_count": 6,
   "id": "1e2e961c-5909-43f0-8610-354fea38bd00",
   "metadata": {
    "tags": []
   },
   "outputs": [
    {
     "data": {
      "text/plain": [
       "0.7474140039266717"
      ]
     },
     "execution_count": 6,
     "metadata": {},
     "output_type": "execute_result"
    }
   ],
   "source": [
    "mjwaterfrontproperties[mjwaterfrontproperties.appeal].fairmarkettotal.sum() / mjwaterfrontproperties.fairmarkettotal.sum()"
   ]
  },
  {
   "cell_type": "code",
   "execution_count": 7,
   "id": "01c42552-6940-4473-b618-18965e7ac419",
   "metadata": {
    "tags": []
   },
   "outputs": [],
   "source": [
    "mjwaterfrontproperties.to_csv('output/waterfront-local.csv', index=False)"
   ]
  },
  {
   "cell_type": "markdown",
   "id": "1f382f9d-a93f-48ba-a846-52c6dfd533a4",
   "metadata": {},
   "source": [
    "### Select U.S. Steel parcels, appeals by property owner"
   ]
  },
  {
   "cell_type": "code",
   "execution_count": 8,
   "id": "51ce2edf-8224-4e95-9c12-f1b69d304be3",
   "metadata": {
    "tags": []
   },
   "outputs": [],
   "source": [
    "steelproperties = pd.read_sql_query(\"\"\"SELECT DISTINCT(assessments.parcelid), propertyhousenum, propertyaddress, municode, munidesc, fairmarkettotal::int, parcelcentroids.lat, parcelcentroids.lon\n",
    "FROM assessments\n",
    "JOIN parcelcentroids\n",
    "ON assessments.parcelid = parcelcentroids.parcelid\n",
    "WHERE taxcode = 'T'\n",
    "AND (changenoticeaddress1 LIKE '1%%PPG%%PL%%2810%%' OR assessments.parcelid = '0657S00020000000');\"\"\", db)"
   ]
  },
  {
   "cell_type": "code",
   "execution_count": 9,
   "id": "6dc2fafe-de38-4ac2-a734-044203401829",
   "metadata": {
    "tags": []
   },
   "outputs": [],
   "source": [
    "steelproperties['appeal'] = steelproperties.parcelid.isin(allappeals.parcelid)\n",
    "\n",
    "steelproperties['fill'] = ''\n",
    "steelproperties.loc[steelproperties.appeal, 'fill'] = '#fa8c00'\n",
    "steelproperties['symbol'] = 'locator'\n",
    "\n",
    "steelproperties['title'] = ' '\n",
    "steelproperties['tooltip'] = steelproperties.agg(lambda x: f\"<b>Address:</b> {x['propertyhousenum']} {x['propertyaddress']}\\n<b>Municipality:</b> {x['munidesc']}\\n<b>Tax value:</b> {'${:,}'.format(x['fairmarkettotal'])}\", axis=1)"
   ]
  },
  {
   "cell_type": "code",
   "execution_count": 10,
   "id": "3db8cb1c-dc1e-40db-b94d-2fd64a027db3",
   "metadata": {
    "tags": []
   },
   "outputs": [],
   "source": [
    "steelproperties.to_csv('output/steel.csv', index=False)"
   ]
  }
 ],
 "metadata": {
  "kernelspec": {
   "display_name": "Python 3 (ipykernel)",
   "language": "python",
   "name": "python3"
  },
  "language_info": {
   "codemirror_mode": {
    "name": "ipython",
    "version": 3
   },
   "file_extension": ".py",
   "mimetype": "text/x-python",
   "name": "python",
   "nbconvert_exporter": "python",
   "pygments_lexer": "ipython3",
   "version": "3.9.16"
  }
 },
 "nbformat": 4,
 "nbformat_minor": 5
}
